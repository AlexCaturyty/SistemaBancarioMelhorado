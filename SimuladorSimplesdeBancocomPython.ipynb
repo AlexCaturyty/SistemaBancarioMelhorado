{
  "nbformat": 4,
  "nbformat_minor": 0,
  "metadata": {
    "colab": {
      "provenance": [],
      "authorship_tag": "ABX9TyODhKAwduO1eF1WjbK1rMCy",
      "include_colab_link": true
    },
    "kernelspec": {
      "name": "python3",
      "display_name": "Python 3"
    },
    "language_info": {
      "name": "python"
    }
  },
  "cells": [
    {
      "cell_type": "markdown",
      "metadata": {
        "id": "view-in-github",
        "colab_type": "text"
      },
      "source": [
        "<a href=\"https://colab.research.google.com/github/AlexCaturyty/SistemaBancarioMelhorado/blob/main/SimuladorSimplesdeBancocomPython.ipynb\" target=\"_parent\"><img src=\"https://colab.research.google.com/assets/colab-badge.svg\" alt=\"Open In Colab\"/></a>"
      ]
    },
    {
      "cell_type": "code",
      "execution_count": null,
      "metadata": {
        "id": "erlcDBSVTv0R"
      },
      "outputs": [],
      "source": [
        "menu = \"\"\"\n",
        "[d] Depositar\n",
        "[s] Sacar\n",
        "[e] Extrato\n",
        "[q] Sair\n",
        "[c] Criar conta\n",
        "\n",
        "=> \"\"\"\n",
        "clientes = {}\n",
        "\n",
        "def depositar(nome):\n",
        "    global clientes\n",
        "    valor = float(input(\"Informe o valor do depósito: \"))\n",
        "    if valor > 0:\n",
        "        clientes[nome][\"saldo\"] += valor\n",
        "        clientes[nome][\"extrato\"] += f\"Depósito: R$ {valor:.2f}\\n\"\n",
        "    else:\n",
        "        print(\"O valor informado é inválido.\")\n",
        "\n",
        "def sacar(nome):\n",
        "    global clientes\n",
        "    valor = float(input(\"Informe o valor do saque: \"))\n",
        "    excedeu_saldo_da_conta = valor > clientes[nome][\"saldo\"]\n",
        "    excedeu_limite_da_conta = valor > 500\n",
        "    excedeu_saques_da_conta = clientes[nome][\"numero_saques\"] >= 3\n",
        "\n",
        "    if excedeu_saldo_da_conta:\n",
        "        print(\"Você não tem saldo suficiente.\")\n",
        "    elif excedeu_limite_da_conta:\n",
        "        print(\"O valor do saque excede o limite.\")\n",
        "    elif excedeu_saques_da_conta:\n",
        "        print(\"Número máximo de saques excedido.\")\n",
        "    elif valor > 0:\n",
        "        clientes[nome][\"saldo\"] -= valor\n",
        "        clientes[nome][\"extrato\"] += f\"Saque: R$ {valor:.2f}\\n\"\n",
        "        clientes[nome][\"numero_saques\"] += 1\n",
        "    else:\n",
        "        print(\"O valor informado é inválido.\")\n",
        "\n",
        "def exibir_extrato(nome):\n",
        "    print(\"\\n================ EXTRATO ================\")\n",
        "    extrato = clientes[nome][\"extrato\"]\n",
        "    print(\"Nenhum depósito ou saque foi realizado.\" if not extrato else extrato)\n",
        "    print(f\"\\nSaldo: R$ {clientes[nome]['saldo']:.2f}\")\n",
        "    print(\"==========================================\")\n",
        "\n",
        "def criar_conta():\n",
        "    nome = input(\"Informe o nome do titular da conta: \")\n",
        "\n",
        "    if nome not in clientes:\n",
        "        clientes[nome] = {\n",
        "            \"saldo\": 0,\n",
        "            \"extrato\": \"\",\n",
        "            \"numero_saques\": 0\n",
        "        }\n",
        "        print(\"Conta criada com sucesso!\")\n",
        "    else:\n",
        "        print(\"Conta já existe para esse titular.\")\n",
        "\n",
        "while True:\n",
        "    nome = input(\"Olá, informe seu nome: \")\n",
        "\n",
        "    if nome not in clientes:\n",
        "        print(\"Usuário não encontrado. Crie uma conta primeiro.\")\n",
        "        criar_conta()\n",
        "        continue\n",
        "\n",
        "    print(f\"\\nOlá, {nome}. Qual seria sua ação de hoje?\")\n",
        "    opcao = input(menu)\n",
        "\n",
        "    if opcao == \"d\":\n",
        "        depositar(nome)\n",
        "    elif opcao == \"s\":\n",
        "        sacar(nome)\n",
        "    elif opcao == \"e\":\n",
        "        exibir_extrato(nome)\n",
        "    elif opcao == \"c\":\n",
        "        criar_conta()\n",
        "    elif opcao == \"q\":\n",
        "        break\n",
        "    else:\n",
        "        print(\"Operação inválida, por favor selecione novamente a operação desejada.\")\n"
      ]
    }
  ]
}